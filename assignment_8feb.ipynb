{
 "cells": [
  {
   "cell_type": "code",
   "execution_count": null,
   "id": "0cdbf1c1-dfe6-406a-ad44-3b263da5f60a",
   "metadata": {},
   "outputs": [],
   "source": [
    "#Q1. What is Abstraction in OOps? Explain with an example.\n",
    "-Abstraction helps in simplifying complex systems by breaking them down into smaller, more manageable components. \n",
    "It provides a high-level view of the system, hiding the implementation details and exposing only the necessary information.\n",
    "It allows you to create abstract classes and interfaces that define a common interface for a set of related objects.\n",
    "it is illustrated by an example below:"
   ]
  },
  {
   "cell_type": "code",
   "execution_count": 1,
   "id": "7b422e97-f9d7-4f87-894c-445fbc3ded95",
   "metadata": {},
   "outputs": [],
   "source": [
    "import abc"
   ]
  },
  {
   "cell_type": "code",
   "execution_count": 2,
   "id": "c2c175da-8557-4981-acef-81c27d8ba3f9",
   "metadata": {},
   "outputs": [],
   "source": [
    "class vehicles:\n",
    "    @abc.abstractmethod\n",
    "    def start(self):\n",
    "        pass\n",
    "    @abc.abstractmethod\n",
    "    def stop(self):\n",
    "        pass"
   ]
  },
  {
   "cell_type": "code",
   "execution_count": 3,
   "id": "b464039a-0213-4f0f-a458-156fe5726636",
   "metadata": {},
   "outputs": [],
   "source": [
    "class car(vehicles):\n",
    "    def start(self):\n",
    "        return \"car started\"\n",
    "    def stop(self):\n",
    "        return \"car stopped\""
   ]
  },
  {
   "cell_type": "code",
   "execution_count": 4,
   "id": "bec423a9-fa4a-4453-b396-bc1633a4a772",
   "metadata": {},
   "outputs": [],
   "source": [
    "class bikes(vehicles):\n",
    "    def start(self):\n",
    "        return \"bike started\"\n",
    "    def stop(self):\n",
    "        return \"bike stopped\""
   ]
  },
  {
   "cell_type": "code",
   "execution_count": null,
   "id": "a0fb65e3-011b-4220-aaf4-d25ec8aebde8",
   "metadata": {},
   "outputs": [],
   "source": [
    "#In this example, the Vehicle class is an abstract class that defines the common interface for vehicles. \n",
    "#It has two abstract methods, start() and stop(), which are implemented by the concrete subclasses Car and Bike. "
   ]
  },
  {
   "cell_type": "code",
   "execution_count": null,
   "id": "903cbce0-23bb-4a8c-a263-a09dd61512ec",
   "metadata": {},
   "outputs": [],
   "source": [
    "#Q2. Differentiate between Abstraction and Encapsulation. Explain with an example.\n",
    "-1.Abstraction\n",
    "Abstraction focuses on creating a simplified and generalized view of an object or system by hiding unnecessary details.\n",
    "It allows you to define abstract classes or interfaces that provide a common interface for a set of related objects.\n",
    "Abstraction is achieved by defining abstract classes with abstract methods, which are meant to be overridden by the subclasses.\n",
    "It helps in managing complexity and allows users to interact with objects at a higher level without worrying about \n",
    "the underlying implementation.\n",
    "\n",
    "2.Encapsulation\n",
    "Encapsulation is the process of wrapping data and methods together into a single unit (class) and controlling access to that unit.\n",
    "It provides data hiding, which means that the internal state and implementation details of an object are hidden from external access.\n",
    "Encapsulation allows the object to maintain its integrity by ensuring that the internal data is accessed and modified only \n",
    "through the defined interface (public methods).\n",
    "It helps in achieving information hiding and protects the internal state of an object from being accidentally or maliciously \n",
    "manipulated.\n",
    "\n",
    "An example to illustrate the difference between abstraction and encapsulation is given below:"
   ]
  },
  {
   "cell_type": "code",
   "execution_count": 15,
   "id": "1fe2df31-0f47-4412-acc3-f4d4f41bf1b1",
   "metadata": {},
   "outputs": [],
   "source": [
    "class Employee:\n",
    "    def __init__(self, emp_id, name, salary):\n",
    "        self.emp_id = emp_id  # Encapsulated data\n",
    "        self.name = name  # Encapsulated data\n",
    "        self.salary = salary  # Encapsulated data\n",
    "\n",
    "    def display_employee_info(self):\n",
    "        return self.emp_id, self.name, self.salary\n",
    "    \n",
    "    def apply_raise(self, percentage):\n",
    "        self.salary += (self.salary * percentage)"
   ]
  },
  {
   "cell_type": "code",
   "execution_count": 16,
   "id": "3177362f-56fe-46a5-8989-efc8caedba58",
   "metadata": {},
   "outputs": [],
   "source": [
    "employee= Employee(\"E123\",\"abhi\", 1000)"
   ]
  },
  {
   "cell_type": "code",
   "execution_count": 24,
   "id": "9df29b47-6c15-4edc-92ae-f02a6edf5ada",
   "metadata": {},
   "outputs": [],
   "source": [
    "employee.apply_raise(1)"
   ]
  },
  {
   "cell_type": "code",
   "execution_count": 25,
   "id": "fb1cc43c-d56e-4aa5-8ed6-f8c6267d74b7",
   "metadata": {},
   "outputs": [
    {
     "data": {
      "text/plain": [
       "('E123', 'abhi', 75600.0)"
      ]
     },
     "execution_count": 25,
     "metadata": {},
     "output_type": "execute_result"
    }
   ],
   "source": [
    "employee.display_employee_info()"
   ]
  },
  {
   "cell_type": "code",
   "execution_count": null,
   "id": "e6ab61c8-494f-4b0d-b783-73b874e3cef9",
   "metadata": {},
   "outputs": [],
   "source": [
    "\"\"\"In this example, the Employee class encapsulates the data (employee ID, name, and salary) and \n",
    "methods  (display_employee_info, and apply_raise) related to an employee. \n",
    "Abstraction is demonstrated by the public methods like display_employee_info, and apply_raise. \n",
    "Users interact with the Employee object using these methods, which provide a simplified interface.\"\"\""
   ]
  },
  {
   "cell_type": "code",
   "execution_count": null,
   "id": "0c0f626b-68b2-4f7a-b547-035c8d60a0b5",
   "metadata": {},
   "outputs": [],
   "source": [
    "#Q3.What is abc module in python? Why is it used?\n",
    "-The abc module in Python stands for \"Abstract Base Classes.\" It provides infrastructure for creating abstract \n",
    "base classes (ABCs) in Python. \n",
    "An abstract base class is a class that cannot be instantiated and is meant to be subclassed by other classes.\n",
    "It is used because of the following :\n",
    "    i. The abc module provides the ABC class and the abstractmethod decorator. This allows you to create your \n",
    "    own abstract base classes by subclassing ABC and marking methods as abstract using the abstractmethod decorator.\n",
    "    \n",
    "    ii.With abstract base classes, you can define a common interface or protocol that a group of related classes should adhere to. \n",
    "    \n",
    "    iii.Abstract base classes facilitate polymorphism and promote code organization. By relying on abstract base classes, \n",
    "    you can write code that works with objects of various concrete subclasses as long as they adhere to the abstract base \n",
    "    class interface.\n",
    "    \n",
    "    iv.: Abstract base classes provide documentation and guidance to other developers. When a developer sees that a class inherits \n",
    "    from an abstract base class, they immediately know which methods need to be implemented and what the expected behavior is"
   ]
  },
  {
   "cell_type": "code",
   "execution_count": null,
   "id": "0f149f3a-af12-4c9a-a5bd-de2321e1eff8",
   "metadata": {},
   "outputs": [],
   "source": [
    "#Q4. How can we achieve data abstraction?\n",
    "-1.Encapsulation:\n",
    "    By encapsulating data, you can hide the internal implementation details and provide controlled access to the data through methods. \n",
    "2.Access Modifiers: \n",
    "    Access modifiers such as private, protected, and public can be used to control the visibility and \n",
    "    accessibility of data and methods in a class\n",
    "3.Getters and Setters: \n",
    "    Getters and setters are methods that provide controlled access to private data members of a class. \n",
    "    Getters are used to retrieve the values of data members, while setters are used to modify or set the values of data members.\n",
    "4.Abstract Classes and Interfaces: \n",
    "    Abstract classes and interfaces provide a higher level of abstraction by defining common attributes and behaviors \n",
    "    for a group of related objects. "
   ]
  },
  {
   "cell_type": "code",
   "execution_count": null,
   "id": "db3111fd-01bf-4323-a65b-fe6f274b80fe",
   "metadata": {},
   "outputs": [],
   "source": [
    "#Q5.Can we create an instance of an abstract class? Explain your answer.\n",
    "-No, we cannot create an instance of an abstract class in Python. An abstract class is a class that is meant to be \n",
    "subclassed by other classes and cannot be instantiated directly. It is designed to serve as a blueprint or template \n",
    "for subclasses to inherit from and provide implementations for the abstract methods defined in the abstract class.\n",
    "Attempting to create an instance of an abstract class will result in a TypeError. For example:"
   ]
  },
  {
   "cell_type": "code",
   "execution_count": 26,
   "id": "a6307d01-0611-4d51-a97d-b07d221cfa3c",
   "metadata": {},
   "outputs": [],
   "source": [
    "import abc"
   ]
  },
  {
   "cell_type": "code",
   "execution_count": 33,
   "id": "a03fc22d-ba4a-4498-87fc-0c9e721704d9",
   "metadata": {},
   "outputs": [],
   "source": [
    "class cars():\n",
    "    @abc.abstractmethod\n",
    "    def start(self):\n",
    "        pass\n",
    "    \n",
    "    @abc.abstractmethod\n",
    "    def stop(self):\n",
    "        pass\n",
    "    "
   ]
  },
  {
   "cell_type": "code",
   "execution_count": 30,
   "id": "b9089da2-97cf-4780-8930-a1868be082c8",
   "metadata": {},
   "outputs": [],
   "source": [
    "bugatti_chiron = cars()"
   ]
  },
  {
   "cell_type": "code",
   "execution_count": null,
   "id": "cb135fe4-dcdb-4197-9cf8-58787c30736d",
   "metadata": {},
   "outputs": [],
   "source": []
  },
  {
   "cell_type": "code",
   "execution_count": null,
   "id": "86d3c73c-18c4-40dc-bd9f-54d69cc153c3",
   "metadata": {},
   "outputs": [],
   "source": []
  }
 ],
 "metadata": {
  "kernelspec": {
   "display_name": "Python 3 (ipykernel)",
   "language": "python",
   "name": "python3"
  },
  "language_info": {
   "codemirror_mode": {
    "name": "ipython",
    "version": 3
   },
   "file_extension": ".py",
   "mimetype": "text/x-python",
   "name": "python",
   "nbconvert_exporter": "python",
   "pygments_lexer": "ipython3",
   "version": "3.10.8"
  }
 },
 "nbformat": 4,
 "nbformat_minor": 5
}
